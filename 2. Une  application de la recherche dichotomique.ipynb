{
 "cells": [
  {
   "cell_type": "markdown",
   "metadata": {},
   "source": [
    "<div class = \"alert alert-warning\" align=\"center\"> \n",
    "    <img src=\"https://www.egd.mg/wp-content/uploads/2020/01/cropped-logo-home-110px.png\" align=\"left\" width=\"290\"  margin=\"50px\"> \n",
    "    <center><h1>Lycée français de Tananarive</h1> \n",
    "        <h2> Jupyter Hub,  Spécialité NSI </h2></center>\n",
    "</div>"
   ]
  },
  {
   "cell_type": "markdown",
   "metadata": {
    "deletable": false,
    "editable": false,
    "nbgrader": {
     "cell_type": "markdown",
     "checksum": "06f2eca4ddbaeccb62c629537ea0abdc",
     "grade": false,
     "grade_id": "cell-198e46b6079fa8a6",
     "locked": true,
     "schema_version": 3,
     "solution": false
    }
   },
   "source": [
    "# Objectif de l'activité.\n",
    "**L'objectif de cette activité est de déterminer si un codon d'un brin ARN appartient à une séquence d'ARN, et finalement de compter le nombre de codons identiques contenus dans le brin ARN**\n",
    "\n",
    "# Créer un bout d'ARN !\n",
    "## Le codon d'ARN.\n",
    "\n",
    "<img src=\"RNA-codon.png\" align=\"right\"> \n",
    "Un codon est une séquence de **trois nucléotides** sur un acide ribonucléique messager (ARNm) spécifiant l'un des 22 acides aminés protéinogènes dont la succession sur l'ARN messager détermine la structure primaire de la protéine à synthétiser. Les ARN messagers étant constitués d'une succession de plusieurs dizaines à plusieurs centaines de nucléotides, ce sont également plusieurs dizaines à plusieurs centaines d'acides aminés qui peuvent être ainsi assemblés linéairement pour former des chaînes protéiques. **Quatre bases nucléiques** déterminent la séquence d'un ARN messager — adénine(A), uracile(U), guanine(G), et cytosine(C) — de sorte qu'il existe 43 = 64 codons différents\n",
    "\n",
    "> Ecrire une fonction `codon()` qui renvoie un codon aléatoire de trois bases nucléiques codées sous la forme d'une chaine de caractéres, 'UUG' par exemple\n",
    "\n",
    "On rappelle que python utilise la fonction `sorted(L)` pour trier une liste, et que dans le cas d'une chaine de caractéres ceux-ci sont trier par leur code ASCII code. \n",
    "\n",
    "`ACA` sera donc placé avant `ACC` car :\n",
    "\n",
    "- 'A' : 65 \n",
    "- 'C' : 67\n",
    "- 'G' : 71\n",
    "- 'U' : 125\n"
   ]
  },
  {
   "cell_type": "code",
   "execution_count": null,
   "metadata": {
    "deletable": false,
    "nbgrader": {
     "cell_type": "code",
     "checksum": "1c26fc69958c3822510a9af09be9fff6",
     "grade": false,
     "grade_id": "cell-e16a10b8cf65c66d",
     "locked": false,
     "schema_version": 3,
     "solution": true
    }
   },
   "outputs": [],
   "source": [
    "from random import randint\n",
    "\n",
    "def codon() :\n",
    "    \"\"\" Renvoie une chaine aléatoire de 3 carctéres qui représente un codon de l'ARN\n",
    "    Prec : aucune, ne prend pas de paremètres.\n",
    "    Post : renvoie une chaine aléatoire de 3 caractéres parmi A,U,G,C\"\"\"\n",
    "    # YOUR CODE HERE\n",
    "    raise NotImplementedError()"
   ]
  },
  {
   "cell_type": "code",
   "execution_count": null,
   "metadata": {
    "deletable": false,
    "editable": false,
    "nbgrader": {
     "cell_type": "code",
     "checksum": "20d909b2222f54b5da04274528e2f3ff",
     "grade": true,
     "grade_id": "cell-84712ba5f9ae87e8",
     "locked": true,
     "points": 1,
     "schema_version": 3,
     "solution": false
    }
   },
   "outputs": [],
   "source": [
    "assert len(codon()) == 3\n",
    "C = codon()\n",
    "assert 'A' in  C or 'U' in C or 'G' in C or 'C' in C == True\n",
    "assert not 'B' in C == True"
   ]
  },
  {
   "cell_type": "markdown",
   "metadata": {
    "deletable": false,
    "editable": false,
    "nbgrader": {
     "cell_type": "markdown",
     "checksum": "22888af4ef2eff42c8f0456192902c34",
     "grade": false,
     "grade_id": "cell-cb5c3fdb7f25bb6b",
     "locked": true,
     "schema_version": 3,
     "solution": false
    }
   },
   "source": [
    "> Ecrire une fonction `arn(n)` qui renvoie sous forme de liste une branche d'ARN codée sous la forme d'une liste de codon \n",
    "\n",
    "Exemple de sortie pour `n=3` : ['UGG', 'ACA', 'UUA'] "
   ]
  },
  {
   "cell_type": "code",
   "execution_count": null,
   "metadata": {
    "deletable": false,
    "nbgrader": {
     "cell_type": "code",
     "checksum": "f44a85e50faf8f76d17d8c07d9ba4407",
     "grade": false,
     "grade_id": "cell-8cedbccbe3e63cf8",
     "locked": false,
     "schema_version": 3,
     "solution": true
    }
   },
   "outputs": [],
   "source": [
    "def arn(n) :\n",
    "    \"\"\"Renvoie une liste triée de codons sous forme d'une liste\n",
    "    Prec : un entier qui représente le nombre de codon que contiendra la liste \n",
    "    Post : Une liste aléatoire de n chaines de trois caractéres crées par codon()\"\"\"\n",
    "    # YOUR CODE HERE\n",
    "    raise NotImplementedError()"
   ]
  },
  {
   "cell_type": "code",
   "execution_count": null,
   "metadata": {
    "deletable": false,
    "editable": false,
    "nbgrader": {
     "cell_type": "code",
     "checksum": "a6f14f802c79a9d96a8b74023ff620ed",
     "grade": true,
     "grade_id": "cell-6d10040f5de3f50c",
     "locked": true,
     "points": 1,
     "schema_version": 3,
     "solution": false
    }
   },
   "outputs": [],
   "source": [
    "assert len(arn(10)) == 10\n",
    "A = arn(5)\n",
    "assert ('A' in  A[0] or' U' in A[0] or 'G' in A[0] or 'C' in A[0]) == True\n",
    "assert len(A[1]) == 3\n",
    "assert (not 'H' in A[2]) == True"
   ]
  },
  {
   "cell_type": "markdown",
   "metadata": {
    "deletable": false,
    "editable": false,
    "nbgrader": {
     "cell_type": "markdown",
     "checksum": "3d979cd3e5f041a5865c436f5b1bf9e4",
     "grade": false,
     "grade_id": "cell-1dadb1c2e1ec380a",
     "locked": true,
     "schema_version": 3,
     "solution": false
    }
   },
   "source": [
    "# Rechercher un codon dans un brin ARN\n",
    "## Algorithme de recherche dichotomique.\n",
    "> Ecrire une fonction `recherche(T,n)` en utilisant une méthode de recherche dichotomique d'un codon dans un brin ARN."
   ]
  },
  {
   "cell_type": "code",
   "execution_count": null,
   "metadata": {
    "deletable": false,
    "nbgrader": {
     "cell_type": "code",
     "checksum": "5875163e47bb05dede81420c1fd82642",
     "grade": false,
     "grade_id": "cell-cd1c23ca495e5852",
     "locked": false,
     "schema_version": 3,
     "solution": true
    }
   },
   "outputs": [],
   "source": [
    "def recherche_dico(T,n) :\n",
    "    \"\"\" Teste la présence de n dans T\n",
    "    Prec : T une liste de codon d'au moins 2 éléments triée par ordre croissant\n",
    "           n un codon sous la forme d'une chaine de 3 caractères.\n",
    "    Post : Un booléen, True si n est dans T, False sinon\"\"\"\n",
    "    # YOUR CODE HERE\n",
    "    raise NotImplementedError()"
   ]
  },
  {
   "cell_type": "code",
   "execution_count": null,
   "metadata": {
    "deletable": false,
    "editable": false,
    "nbgrader": {
     "cell_type": "code",
     "checksum": "e01e8d273f7f10ab6e55f23bc3c27e28",
     "grade": true,
     "grade_id": "cell-483733432bf5294e",
     "locked": true,
     "points": 3,
     "schema_version": 3,
     "solution": false
    }
   },
   "outputs": [],
   "source": [
    "assert recherche_dico(arn(10),'HHH') == False\n",
    "assert recherche_dico(['AAA','AGA'], 'AAA') == True\n",
    "assert recherche_dico(['AAA','AGA'], 'AUU') == False\n",
    "assert recherche_dico(['AAA','AGA','UUU'], 'UUU') == True"
   ]
  },
  {
   "cell_type": "markdown",
   "metadata": {
    "deletable": false,
    "editable": false,
    "nbgrader": {
     "cell_type": "markdown",
     "checksum": "3a84543904c1a9016e5bcee6c5460344",
     "grade": false,
     "grade_id": "cell-fbd4b47f0d881daa",
     "locked": true,
     "schema_version": 3,
     "solution": false
    }
   },
   "source": [
    "## Algorithme de recherche séquentielle\n",
    "On écrit cette fois-ci une fonction beaucoup plus simple qui réalise elle une recherche séquentielle d'un codon dans la liste représentative du brin ARN"
   ]
  },
  {
   "cell_type": "code",
   "execution_count": null,
   "metadata": {
    "deletable": false,
    "nbgrader": {
     "cell_type": "code",
     "checksum": "b7964e6ae623d581424bcdedf07823f4",
     "grade": false,
     "grade_id": "cell-8d4cd52eea995289",
     "locked": false,
     "schema_version": 3,
     "solution": true
    }
   },
   "outputs": [],
   "source": [
    "# YOUR CODE HERE\n",
    "raise NotImplementedError()"
   ]
  },
  {
   "cell_type": "markdown",
   "metadata": {
    "deletable": false,
    "editable": false,
    "nbgrader": {
     "cell_type": "markdown",
     "checksum": "9dae4592f6d3c370db7a64675a814790",
     "grade": false,
     "grade_id": "cell-7364912724637cd8",
     "locked": true,
     "schema_version": 3,
     "solution": false
    }
   },
   "source": [
    "Verifions tout d'abord que votre fonction de rcherche dichotomique est plus rapide que cette fonction de recherche séquentielle. Pour cela créons une fonction de mesure du temps d'exécution du temps des deux fonctions. La mesure sera effectuée sur une liste de longeur `n`. \n",
    "\n",
    "La fonction renvoie un tuple permettant de comparer les temps d'éxécution. Pour comparer les deux fonctions, nous nous appuierons sur un temps d'exécution maximum, avec une recherche qui dans les deux cas renvoie `False`."
   ]
  },
  {
   "cell_type": "code",
   "execution_count": null,
   "metadata": {
    "deletable": false,
    "editable": false,
    "nbgrader": {
     "cell_type": "code",
     "checksum": "9da428496f7eb87e8e5dfd5c6c7fd774",
     "grade": false,
     "grade_id": "cell-ab47c852c8fb9939",
     "locked": true,
     "schema_version": 3,
     "solution": false
    }
   },
   "outputs": [],
   "source": [
    "from time import process_time\n",
    "\n",
    "def mesure_temps(n) :\n",
    "    \"\"\" Mesure le temps d'exécution de recherche dichotomique et de recherche séquentielle\n",
    "    Prec : un entier n représentant la longueur de la liste de recherche\n",
    "    Post : Un tuple :\n",
    "            le temps de recherche par une méthode dichotomique\n",
    "            le temps de recherche par une méthode séquentielle\"\"\"\n",
    "    L = arn(n)\n",
    "    m = \"HHH\"\n",
    "    t_dicho = 0 \n",
    "    for i in range(10) :\n",
    "        t1_start = process_time()  \n",
    "        resultat = recherche_dico(L,m)\n",
    "        t1_stop = process_time() \n",
    "        t_dicho += t1_stop-t1_start\n",
    "    t_dicho = t_dicho/10\n",
    "    t_seq = 0\n",
    "    for i in range(10) :\n",
    "        t2_start = process_time()  \n",
    "        resultat = recherche_seq(L,m)\n",
    "        t2_stop = process_time() \n",
    "        t_seq += t2_stop-t2_start\n",
    "    t_seq = t_seq/10\n",
    "    return t_dicho,t_seq"
   ]
  },
  {
   "cell_type": "code",
   "execution_count": null,
   "metadata": {
    "deletable": false,
    "editable": false,
    "nbgrader": {
     "cell_type": "code",
     "checksum": "5e0c488e434e86396a0b1bea5f385e15",
     "grade": true,
     "grade_id": "cell-a2a457b256afb5f8",
     "locked": true,
     "points": 2,
     "schema_version": 3,
     "solution": false
    }
   },
   "outputs": [],
   "source": [
    "assert (mesure_temps(100000)[0]<mesure_temps(100000)[1]) == True\n",
    "assert (mesure_temps(10000)[0]<mesure_temps(10000)[1]) == True\n",
    "assert (mesure_temps(1000)[0]<mesure_temps(1000)[1]) == True\n",
    "assert (mesure_temps(100)[0]<mesure_temps(100)[1]) == True"
   ]
  },
  {
   "cell_type": "code",
   "execution_count": null,
   "metadata": {
    "deletable": false,
    "editable": false,
    "nbgrader": {
     "cell_type": "code",
     "checksum": "9c78a5f4023e1ed2ce48a433ccd2fbe7",
     "grade": false,
     "grade_id": "cell-1da5841e28d4f8aa",
     "locked": true,
     "schema_version": 3,
     "solution": false
    }
   },
   "outputs": [],
   "source": [
    "import matplotlib.pyplot as plt\n",
    "\n",
    "x = [i for i in range(2,10000,100)]\n",
    "y1,y2=[],[]\n",
    "for i in x :\n",
    "    y1.append(mesure_temps(i)[0])\n",
    "    y2.append(mesure_temps(i)[1])\n",
    "\n",
    "plt.plot(x,y1,label=\"dicho\")\n",
    "plt.plot(x,y2,label='seq')\n",
    "plt.legend()"
   ]
  },
  {
   "cell_type": "markdown",
   "metadata": {
    "deletable": false,
    "editable": false,
    "nbgrader": {
     "cell_type": "markdown",
     "checksum": "82b78f498bd4d005726567d99d934375",
     "grade": false,
     "grade_id": "cell-acb6236a31d3f962",
     "locked": true,
     "schema_version": 3,
     "solution": false
    }
   },
   "source": [
    "# Comptage du nombre de codons identiques.\n",
    "## Recherche dichotomique de l'indice d'un codon\n",
    "> En vous appuyant sur votre fonction de recherche dichotomique, précédemment écrite, **écrire une fonction `recherche_indice(T,codon)` qui renvoie l'indice du codon passé en paramètre** "
   ]
  },
  {
   "cell_type": "code",
   "execution_count": null,
   "metadata": {
    "deletable": false,
    "nbgrader": {
     "cell_type": "code",
     "checksum": "975ee44bc427aa232913c1d5adc7900a",
     "grade": false,
     "grade_id": "cell-7c02297c8a9bc396",
     "locked": false,
     "schema_version": 3,
     "solution": true
    }
   },
   "outputs": [],
   "source": [
    "def recherche_indice(T,n) :\n",
    "    \"\"\" compte le nombre de codon n dans T\n",
    "    Prec : T une liste de codons d'au moins 2 éléments triée par ordre croissant\n",
    "           n un codon sous la forme d'une chaine de 3 caractères.\n",
    "    Post : un entier représentant l'indice du codon passé en paramètre\n",
    "           -1 si le codon recherché n'est pas dans T\"\"\"\n",
    "    # YOUR CODE HERE\n",
    "    raise NotImplementedError()"
   ]
  },
  {
   "cell_type": "code",
   "execution_count": null,
   "metadata": {
    "deletable": false,
    "editable": false,
    "nbgrader": {
     "cell_type": "code",
     "checksum": "1884d149cb9c089fb7058ef33162c592",
     "grade": true,
     "grade_id": "cell-7978f66c6ef13c31",
     "locked": true,
     "points": 2,
     "schema_version": 3,
     "solution": false
    }
   },
   "outputs": [],
   "source": [
    "assert recherche_indice(['AAA','AAA'],'AAA') == 0\n",
    "assert recherche_indice(['AAA','AAA'],'ACC') == -1\n",
    "assert recherche_indice(['AAA','UUU'],'UUU') == 1\n",
    "assert recherche_indice(['AAA','ACA','UUU'],'ACA') == 1\n",
    "assert recherche_indice(['AAA','ACA','ACU','UUU'],'ACG') == -1"
   ]
  },
  {
   "cell_type": "markdown",
   "metadata": {
    "deletable": false,
    "editable": false,
    "nbgrader": {
     "cell_type": "markdown",
     "checksum": "7ad0f9d7e3daba2c351519ab4c213fc3",
     "grade": false,
     "grade_id": "cell-c79e31f100309069",
     "locked": true,
     "schema_version": 3,
     "solution": false
    }
   },
   "source": [
    "## Comptage du nombre de condons.\n",
    "> Ecrire une fonction `nombre_dicho(L,n)` qui compte le nombre de codons `n` contenus dans la liste `L`\n",
    "\n",
    "On pourra rechercher l'indice du codon passé en paramètre avec la fonction `recherche_indice(T,n)`, pour le supprimer de la liste en incrémantant un compteur jusqu'à ce que ce codon ne se trouve plus dans la liste."
   ]
  },
  {
   "cell_type": "code",
   "execution_count": null,
   "metadata": {
    "deletable": false,
    "nbgrader": {
     "cell_type": "code",
     "checksum": "3e86c781d00f9a634bd47c25ed82ec91",
     "grade": false,
     "grade_id": "cell-840d4083034cfe49",
     "locked": false,
     "schema_version": 3,
     "solution": true
    }
   },
   "outputs": [],
   "source": [
    "# YOUR CODE HERE\n",
    "raise NotImplementedError()"
   ]
  },
  {
   "cell_type": "code",
   "execution_count": null,
   "metadata": {
    "deletable": false,
    "editable": false,
    "nbgrader": {
     "cell_type": "code",
     "checksum": "6c314931e80cd802ecb110d4f4aab90e",
     "grade": true,
     "grade_id": "cell-95a0542a2a81df94",
     "locked": true,
     "points": 2,
     "schema_version": 3,
     "solution": false
    }
   },
   "outputs": [],
   "source": [
    "assert nombre_dico(['AAA','AAA'],'AAA') == 2\n",
    "assert nombre_dico(['AAA','AAA'],'CAC') == 0\n",
    "assert nombre_dico(['AAA','AAC','AAG'],'AAA') == 1\n",
    "assert nombre_dico(['AAA','AAA','AAG'],'AAA') == 2\n",
    "assert nombre_dico(['AAA','AAG','AAG'],'AAG') == 2"
   ]
  },
  {
   "cell_type": "markdown",
   "metadata": {
    "deletable": false,
    "editable": false,
    "nbgrader": {
     "cell_type": "markdown",
     "checksum": "f551130993e37d5d802eccce407fcfb2",
     "grade": false,
     "grade_id": "cell-0ef484c609a89f2f",
     "locked": true,
     "schema_version": 3,
     "solution": false
    }
   },
   "source": [
    "On défini maintenant une fonction `nombre_seq(L,n)` qui compte de façon séquentielle ne nombre d'occurences du codon `n`"
   ]
  },
  {
   "cell_type": "code",
   "execution_count": null,
   "metadata": {
    "deletable": false,
    "editable": false,
    "nbgrader": {
     "cell_type": "code",
     "checksum": "8a9901c09813088727fb47ad19b27ecb",
     "grade": false,
     "grade_id": "cell-43d73f78b52de40c",
     "locked": true,
     "schema_version": 3,
     "solution": false
    }
   },
   "outputs": [],
   "source": [
    "def nombre_seq(L,n) :\n",
    "    nb = 0 \n",
    "    for i in L :\n",
    "        if i == n :\n",
    "            nb = nb +1\n",
    "    return nb"
   ]
  },
  {
   "cell_type": "markdown",
   "metadata": {
    "deletable": false,
    "editable": false,
    "nbgrader": {
     "cell_type": "markdown",
     "checksum": "a35248faaaa58e097f0171ba0b1be781",
     "grade": false,
     "grade_id": "cell-c4463597981e5c37",
     "locked": true,
     "schema_version": 3,
     "solution": false
    }
   },
   "source": [
    "Vérifions tout d'abord que les deux fonctions renvoient bien le même nombre :"
   ]
  },
  {
   "cell_type": "code",
   "execution_count": null,
   "metadata": {
    "deletable": false,
    "editable": false,
    "nbgrader": {
     "cell_type": "code",
     "checksum": "097b4c29e56829e25b69953ceb6e9888",
     "grade": false,
     "grade_id": "cell-a38ea5034d5e2c9b",
     "locked": true,
     "schema_version": 3,
     "solution": false
    }
   },
   "outputs": [],
   "source": [
    "L_test = arn(1000)\n",
    "nb1 = nombre_seq (L_test,'AAA')\n",
    "nb2 = nombre_dico (L_test,'AAA')\n",
    "assert nb1 == nb2\n",
    "nb1 = nombre_seq (L_test,'CAG') \n",
    "nb2 = nombre_dico (L_test,'CAG')\n",
    "assert nb1 == nb2"
   ]
  },
  {
   "cell_type": "markdown",
   "metadata": {
    "deletable": false,
    "editable": false,
    "nbgrader": {
     "cell_type": "markdown",
     "checksum": "d070b409e3832cce1649d5248b75ff40",
     "grade": false,
     "grade_id": "cell-46936ce4d74fa936",
     "locked": true,
     "schema_version": 3,
     "solution": false
    }
   },
   "source": [
    "## Temps d'exécution.\n",
    "Ecrivons maintenant une fonction qui compare les temps d'exécution des type de comptage, en utilisant une méthode dichotomique et une méthode séquentielle."
   ]
  },
  {
   "cell_type": "code",
   "execution_count": null,
   "metadata": {
    "deletable": false,
    "editable": false,
    "nbgrader": {
     "cell_type": "code",
     "checksum": "fcc6ce9e08b00ad3add9d06926689de6",
     "grade": false,
     "grade_id": "cell-858347abdde3b794",
     "locked": true,
     "schema_version": 3,
     "solution": false
    }
   },
   "outputs": [],
   "source": [
    "def mesure_temps2(n) :\n",
    "    \"\"\" Mesure le temps d'exécution de comptage dichotomique et de comptage séquentiel\n",
    "    Prec : un entier n représentant la longueur de la liste de recherche\n",
    "    Post : Un tuple :\n",
    "            le temps de comptage par une méthode dichotomique\n",
    "            le temps de comptage par une méthode séquentielle\"\"\"\n",
    "    L = arn(n)\n",
    "    m = \"UUU\"\n",
    "    t_seq = 0\n",
    "    for i in range(10) :\n",
    "        t2_start = process_time()  \n",
    "        resultat = nombre_seq(L,m)\n",
    "        t2_stop = process_time() \n",
    "        t_seq += t2_stop-t2_start\n",
    "    t_seq = t_seq/10\n",
    "    t_dicho = 0 \n",
    "    for i in range(10) :\n",
    "        t1_start = process_time()  \n",
    "        resultat = nombre_dico(L,m)\n",
    "        t1_stop = process_time() \n",
    "        t_dicho += t1_stop-t1_start\n",
    "    t_dicho = t_dicho/10\n",
    "    return t_dicho,t_seq"
   ]
  },
  {
   "cell_type": "code",
   "execution_count": null,
   "metadata": {
    "deletable": false,
    "editable": false,
    "nbgrader": {
     "cell_type": "code",
     "checksum": "c7a2a8c17838e6d036593561027388eb",
     "grade": false,
     "grade_id": "cell-dc36dcb0d4bf4a25",
     "locked": true,
     "schema_version": 3,
     "solution": false
    }
   },
   "outputs": [],
   "source": [
    "x = [i for i in range(2,100000,5000)]\n",
    "y1,y2=[],[]\n",
    "for i in x :\n",
    "    L = mesure_temps2(i)\n",
    "    y1.append(L[0])\n",
    "    y2.append(L[1])\n",
    "\n",
    "plt.plot(x,y1,label=\"dicho\")\n",
    "plt.plot(x,y2,label='seq')\n",
    "plt.legend()"
   ]
  },
  {
   "cell_type": "markdown",
   "metadata": {
    "deletable": false,
    "editable": false,
    "nbgrader": {
     "cell_type": "markdown",
     "checksum": "316485764b2adc3425421c63a05ad5e1",
     "grade": false,
     "grade_id": "cell-fa421ba78cd3e341",
     "locked": true,
     "schema_version": 3,
     "solution": false
    }
   },
   "source": [
    "## Mieux que Python !\n",
    "Python dispose d'une méthode que l'on peut appliquer sur les listes `L.count(n)` qui compte le nombre d'occurences de `n` dans `L`."
   ]
  },
  {
   "cell_type": "code",
   "execution_count": null,
   "metadata": {
    "deletable": false,
    "editable": false,
    "nbgrader": {
     "cell_type": "code",
     "checksum": "515ba1a13bd4af9453203435cf646298",
     "grade": false,
     "grade_id": "cell-3287c8dba1746832",
     "locked": true,
     "schema_version": 3,
     "solution": false
    }
   },
   "outputs": [],
   "source": [
    "def nombre_python(L,n) :\n",
    "    return L.count(n)"
   ]
  },
  {
   "cell_type": "markdown",
   "metadata": {
    "deletable": false,
    "editable": false,
    "nbgrader": {
     "cell_type": "markdown",
     "checksum": "29e7055a7fb80c96bc503561ae5c6921",
     "grade": false,
     "grade_id": "cell-cc3204aa77c89e20",
     "locked": true,
     "schema_version": 3,
     "solution": false
    }
   },
   "source": [
    "Vérifions que nos 3 fonctions de comptage sont équivalentes :"
   ]
  },
  {
   "cell_type": "code",
   "execution_count": null,
   "metadata": {
    "deletable": false,
    "editable": false,
    "nbgrader": {
     "cell_type": "code",
     "checksum": "c3d06272e1fc8935ff813b9485cb5e21",
     "grade": false,
     "grade_id": "cell-4a866b7b95a305cc",
     "locked": true,
     "schema_version": 3,
     "solution": false
    }
   },
   "outputs": [],
   "source": [
    "L_test = arn(1000)\n",
    "assert nombre_seq(L,'AAA') == nombre_python(L,'AAA')\n",
    "assert nombre_seq(L,'AHA') == nombre_python(L,'AHA')\n",
    "assert nombre_seq(L,'CAG') == nombre_python(L,'CAG')"
   ]
  },
  {
   "cell_type": "markdown",
   "metadata": {
    "deletable": false,
    "editable": false,
    "nbgrader": {
     "cell_type": "markdown",
     "checksum": "c39b9a84fb10af77598f10b255486bef",
     "grade": false,
     "grade_id": "cell-6722636c565a5f62",
     "locked": true,
     "schema_version": 3,
     "solution": false
    }
   },
   "source": [
    "Et écrivons une fonction `mesure_temps3(n)` qui renvoie le temps d'exécution pour les trois fonctions de comptage, pour un nombre `n` passé en paramètre."
   ]
  },
  {
   "cell_type": "code",
   "execution_count": null,
   "metadata": {
    "deletable": false,
    "editable": false,
    "nbgrader": {
     "cell_type": "code",
     "checksum": "def964e2c583d326794a8feabcb7e429",
     "grade": false,
     "grade_id": "cell-a4297860554644b6",
     "locked": true,
     "schema_version": 3,
     "solution": false
    }
   },
   "outputs": [],
   "source": [
    "def mesure_temps3(n) :\n",
    "    L = arn(n)\n",
    "    m = \"UUU\"\n",
    "    t_seq = 0\n",
    "    for i in range(10) :\n",
    "        t2_start = process_time()  \n",
    "        resultat = nombre_seq(L,m)\n",
    "        t2_stop = process_time() \n",
    "        t_seq += t2_stop-t2_start\n",
    "    t_seq = t_seq/10\n",
    "    t_dicho = 0 \n",
    "    for i in range(10) :\n",
    "        t1_start = process_time()  \n",
    "        resultat = nombre_dico(L,m)\n",
    "        t1_stop = process_time() \n",
    "        t_dicho += t1_stop-t1_start\n",
    "    t_dicho = t_dicho/10\n",
    "    L = arn(n)\n",
    "    t_python = 0\n",
    "    for i in range(10) :\n",
    "        t3_start = process_time()  \n",
    "        resultat = nombre_python(L,m)\n",
    "        t3_stop = process_time() \n",
    "        t_python += t3_stop-t3_start\n",
    "    t_python = t_python/10\n",
    "    return t_python,t_dicho,t_seq"
   ]
  },
  {
   "cell_type": "code",
   "execution_count": null,
   "metadata": {
    "deletable": false,
    "editable": false,
    "nbgrader": {
     "cell_type": "code",
     "checksum": "3ea665172a418b15d636bac05a6e3730",
     "grade": false,
     "grade_id": "cell-411206da8c472022",
     "locked": true,
     "schema_version": 3,
     "solution": false
    }
   },
   "outputs": [],
   "source": [
    "x = [i for i in range(2,1000000,500000)]\n",
    "y1,y2,y3=[],[],[]\n",
    "for i in x :\n",
    "    L = mesure_temps3(i)\n",
    "    y1.append(L[0])\n",
    "    y2.append(L[1])\n",
    "    y3.append(L[2])\n",
    "\n",
    "plt.plot(x,y1,label=\"python\")\n",
    "plt.plot(x,y2,label='dicho')\n",
    "plt.plot(x,y3,label='seq')\n",
    "plt.legend()"
   ]
  },
  {
   "cell_type": "markdown",
   "metadata": {
    "deletable": false,
    "editable": false,
    "nbgrader": {
     "cell_type": "markdown",
     "checksum": "f82a4182750be4b72dbab2d2fb3804a3",
     "grade": false,
     "grade_id": "cell-5a0030bcef2e6b08",
     "locked": true,
     "schema_version": 3,
     "solution": false
    }
   },
   "source": [
    "**En conclusion : Parfois pour gagner du temps il faut accepter d'en perdre...**"
   ]
  },
  {
   "cell_type": "markdown",
   "metadata": {
    "deletable": false,
    "editable": false,
    "nbgrader": {
     "cell_type": "markdown",
     "checksum": "7cf1d3abaf36cd12fedc6b1fe029b5f6",
     "grade": false,
     "grade_id": "cell-25a4c47185ddcda0",
     "locked": true,
     "schema_version": 3,
     "solution": false
    }
   },
   "source": [
    "**Visiblement les trois fonctions de recherches ont une complexité en $\\mathcal{O}(n)$, essayez de justifier cette affirmation.**"
   ]
  },
  {
   "cell_type": "code",
   "execution_count": null,
   "metadata": {
    "deletable": false,
    "nbgrader": {
     "cell_type": "code",
     "checksum": "63212b68198456bb99aa5c6febc08633",
     "grade": true,
     "grade_id": "cell-49febc41051451f1",
     "locked": false,
     "points": 2,
     "schema_version": 3,
     "solution": true
    }
   },
   "outputs": [],
   "source": [
    "# YOUR CODE HERE\n",
    "raise NotImplementedError()"
   ]
  }
 ],
 "metadata": {
  "kernelspec": {
   "display_name": "Python 3",
   "language": "python",
   "name": "python3"
  },
  "language_info": {
   "codemirror_mode": {
    "name": "ipython",
    "version": 3
   },
   "file_extension": ".py",
   "mimetype": "text/x-python",
   "name": "python",
   "nbconvert_exporter": "python",
   "pygments_lexer": "ipython3",
   "version": "3.6.9"
  },
  "latex_envs": {
   "LaTeX_envs_menu_present": true,
   "autoclose": false,
   "autocomplete": true,
   "bibliofile": "biblio.bib",
   "cite_by": "apalike",
   "current_citInitial": 1,
   "eqLabelWithNumbers": true,
   "eqNumInitial": 1,
   "hotkeys": {
    "equation": "Ctrl-E",
    "itemize": "Ctrl-I"
   },
   "labels_anchors": false,
   "latex_user_defs": false,
   "report_style_numbering": false,
   "user_envs_cfg": false
  }
 },
 "nbformat": 4,
 "nbformat_minor": 2
}
