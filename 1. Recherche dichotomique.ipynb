{
 "cells": [
  {
   "cell_type": "markdown",
   "metadata": {},
   "source": [
    "<div class = \"alert alert-warning\" align=\"center\"> \n",
    "    <img src=\"https://www.egd.mg/wp-content/uploads/2020/01/cropped-logo-home-110px.png\" align=\"left\" width=\"290\"  margin=\"50px\"> \n",
    "    <center><h1>Lycée français de Tananarive</h1> \n",
    "        <h2> Jupyter Hub,  Spécialité NSI </h2></center>\n",
    "</div>"
   ]
  },
  {
   "cell_type": "markdown",
   "metadata": {
    "deletable": false,
    "editable": false,
    "nbgrader": {
     "cell_type": "markdown",
     "checksum": "1cb40fdeabc099a3beac68f3eec16fbd",
     "grade": false,
     "grade_id": "cell-b95c81bfa2736ac4",
     "locked": true,
     "schema_version": 3,
     "solution": false
    }
   },
   "source": [
    "Algorithme de Recherche dichotomique\n",
    "==\n",
    "> Programmer une fonction `recherche_dico(L,n)` qui teste la présence d'un entier `n` dans une liste d'entiers ordonnés."
   ]
  },
  {
   "cell_type": "code",
   "execution_count": 12,
   "metadata": {
    "deletable": false,
    "nbgrader": {
     "cell_type": "code",
     "checksum": "2593d9324b4e2e5a987d6e19209be32a",
     "grade": false,
     "grade_id": "cell-496c29b165e1e313",
     "locked": false,
     "schema_version": 3,
     "solution": true
    }
   },
   "outputs": [],
   "source": [
    "L = [i*2 for i in range(1000)]\n",
    "def recherche_dico(T,n) :\n",
    "    \"\"\" Teste la présence de n dant T\n",
    "    Prec : T une liste d'entiers positifs ou nul triée par ordre croissant\n",
    "           n un entier dont il faut tester la présence dans T\n",
    "    Post : Un booléen, True si n est dans T, False sinon\"\"\"\n",
    "    #YOUR CODE HERE\n",
    "    raise NotImpl"
   ]
  },
  {
   "cell_type": "code",
   "execution_count": 13,
   "metadata": {
    "deletable": false,
    "editable": false,
    "nbgrader": {
     "cell_type": "code",
     "checksum": "2d2e05086790f91116c6b54d2b4500a0",
     "grade": true,
     "grade_id": "cell-d311ef0380de4f7f",
     "locked": true,
     "points": 3,
     "schema_version": 3,
     "solution": false
    }
   },
   "outputs": [],
   "source": [
    "L = [i*2 for i in range(1000)]\n",
    "assert recherche_dico(L,900) == True\n",
    "assert recherche_dico(L,57) == False\n",
    "assert recherche_dico([1],2) == False\n",
    "assert recherche_dico([1],1) == True\n",
    "assert recherche_dico([1,500],50) == False"
   ]
  },
  {
   "cell_type": "markdown",
   "metadata": {
    "deletable": false,
    "editable": false,
    "nbgrader": {
     "cell_type": "markdown",
     "checksum": "498c188a65a04f98559b05e521d86c2d",
     "grade": false,
     "grade_id": "cell-0246d6d0612526e9",
     "locked": true,
     "schema_version": 3,
     "solution": false
    }
   },
   "source": [
    "# Coût de la recherche dichotomique\n",
    "**Dans quel cas la méthode de recherche dichotomique exécutera-t-elle le plus d'opérations élémentaires ?**"
   ]
  },
  {
   "cell_type": "markdown",
   "metadata": {
    "deletable": false,
    "nbgrader": {
     "cell_type": "markdown",
     "checksum": "f90b626ec9a0a0ae49b50acc622dd78c",
     "grade": true,
     "grade_id": "cell-faeaaa10d7fadc2b",
     "locked": false,
     "points": 1,
     "schema_version": 3,
     "solution": true
    }
   },
   "source": [
    "YOUR ANSWER HERE"
   ]
  },
  {
   "cell_type": "code",
   "execution_count": null,
   "metadata": {},
   "outputs": [],
   "source": [
    "\"Dans le cas ou l'élément à rechercher se trouve dans la plus pire des positions!!!\""
   ]
  },
  {
   "cell_type": "markdown",
   "metadata": {
    "deletable": false,
    "editable": false,
    "nbgrader": {
     "cell_type": "markdown",
     "checksum": "946c06cf683a5edfa229752ed6aa3ede",
     "grade": false,
     "grade_id": "cell-e772ded8106b990b",
     "locked": true,
     "schema_version": 3,
     "solution": false
    }
   },
   "source": [
    "Ecrivons une fonction qui permette d'estimer le temps d'exécution de la fonction `recherche_dico(T,n)` en fonction du nombre de données du tableau :"
   ]
  },
  {
   "cell_type": "code",
   "execution_count": 5,
   "metadata": {
    "deletable": false,
    "editable": false,
    "nbgrader": {
     "cell_type": "code",
     "checksum": "02bcdc79ceb3a2afa55afac430cfc5a7",
     "grade": false,
     "grade_id": "cell-47d348e5f098b179",
     "locked": true,
     "schema_version": 3,
     "solution": false
    }
   },
   "outputs": [],
   "source": [
    "from time import process_time\n",
    "def mesure_temps(n) :\n",
    "    L = [i*2 for i in range(n)]\n",
    "    m = (n-1)*2-1\n",
    "    t1_start = process_time()  \n",
    "    resultat = recherche_dico(L,m)\n",
    "    t1_stop = process_time() \n",
    "    return (t1_stop-t1_start)  \n"
   ]
  },
  {
   "cell_type": "markdown",
   "metadata": {
    "deletable": false,
    "editable": false,
    "nbgrader": {
     "cell_type": "markdown",
     "checksum": "0fb691ce793e3b3d2cc4ccf0fb84025f",
     "grade": false,
     "grade_id": "cell-223edd39d52fe6ec",
     "locked": true,
     "schema_version": 3,
     "solution": false
    }
   },
   "source": [
    "Et voyons quelle est l'évolution du temps de calcul en fonction du nombre de données, et soyez un peu patien pour l'éxécution de de programme ! :"
   ]
  },
  {
   "cell_type": "code",
   "execution_count": null,
   "metadata": {
    "deletable": false,
    "editable": false,
    "nbgrader": {
     "cell_type": "code",
     "checksum": "168f47ef66eaab9dafe13031a91d1795",
     "grade": false,
     "grade_id": "cell-3440dca6bcce86ce",
     "locked": true,
     "schema_version": 3,
     "solution": false
    }
   },
   "outputs": [],
   "source": [
    "import matplotlib.pyplot as plt\n",
    "\n",
    "x = [i for i in range(0,1000000,100000)]\n",
    "y=[]\n",
    "for i in x :\n",
    "    total = 0\n",
    "    for j in range(20) :\n",
    "        total = total + mesure_temps(i)\n",
    "    y.append(total/20)\n",
    "\n",
    "plt.plot(x,y)"
   ]
  },
  {
   "cell_type": "markdown",
   "metadata": {
    "deletable": false,
    "editable": false,
    "nbgrader": {
     "cell_type": "markdown",
     "checksum": "a6e7d6efefc3bb27f09733210efed468",
     "grade": false,
     "grade_id": "cell-19cf2f314f8e3d04",
     "locked": true,
     "schema_version": 3,
     "solution": false
    }
   },
   "source": [
    "**Justifiez le fait que le coût en temps ne soit pas linéaire. Ce coût vous parait-il plus faible ou plus grand qu'un coût en temps linéaire ?** "
   ]
  },
  {
   "cell_type": "code",
   "execution_count": null,
   "metadata": {
    "deletable": false,
    "nbgrader": {
     "cell_type": "code",
     "checksum": "9d0b904ed8401c8a05609b81dcd4e2c1",
     "grade": true,
     "grade_id": "cell-341e1f571f68c84b",
     "locked": false,
     "points": 0,
     "schema_version": 3,
     "solution": true
    }
   },
   "outputs": [],
   "source": [
    "# YOUR CODE HERE\n",
    "raise NotImplementedError()"
   ]
  },
  {
   "cell_type": "markdown",
   "metadata": {
    "deletable": false,
    "editable": false,
    "nbgrader": {
     "cell_type": "markdown",
     "checksum": "26a4bf7df6871008f200424f4879b134",
     "grade": false,
     "grade_id": "cell-16e5febc657dce27",
     "locked": true,
     "schema_version": 3,
     "solution": false
    }
   },
   "source": [
    "## Comparaison avec un recherche par parcours séquentiel de liste.\n",
    "Les fonctions définies ci-dessous redéfinissent la fonction `appartient(T,n)` programmée lors d'un cours précédent et compare son cout d'éxécution à une recherche dichotomique"
   ]
  },
  {
   "cell_type": "code",
   "execution_count": null,
   "metadata": {
    "deletable": false,
    "editable": false,
    "nbgrader": {
     "cell_type": "code",
     "checksum": "ae36191139f99408fc82995954d2d6ff",
     "grade": false,
     "grade_id": "cell-c39d1ed24e42f7b1",
     "locked": true,
     "schema_version": 3,
     "solution": false
    }
   },
   "outputs": [],
   "source": [
    "def appartient(T,n) : \n",
    "    \"\"\"Teste l'appartenance d'un élément à une liste\n",
    "    Prec : Une liste T non vide, d'entiers positifs ou nuls\n",
    "    Post : Un booléen True si n appartient à T, False si n n'appartient pas à T\"\"\"\n",
    "    i = 0\n",
    "    while i != len(T) and T[i] != n :\n",
    "        i += 1\n",
    "    if i == len(T) :\n",
    "        return False\n",
    "    else :\n",
    "        return True"
   ]
  },
  {
   "cell_type": "code",
   "execution_count": null,
   "metadata": {
    "deletable": false,
    "editable": false,
    "nbgrader": {
     "cell_type": "code",
     "checksum": "831c856ee88e032bba53641c919f1bfa",
     "grade": false,
     "grade_id": "cell-c5fdda23e9c6031d",
     "locked": true,
     "schema_version": 3,
     "solution": false
    }
   },
   "outputs": [],
   "source": [
    "def mesure_temps2(n) :\n",
    "    L = [i*2 for i in range(n)]\n",
    "    if (n//2)%2 == 0 :\n",
    "        m= n/2+1\n",
    "    else :\n",
    "        m = n//2\n",
    "    t1_start = process_time()  \n",
    "    resultat = appartient(L,m)\n",
    "    t1_stop = process_time() \n",
    "    return (t1_stop-t1_start) "
   ]
  },
  {
   "cell_type": "code",
   "execution_count": null,
   "metadata": {
    "deletable": false,
    "editable": false,
    "nbgrader": {
     "cell_type": "code",
     "checksum": "afccf4959988e4a7e8e11ea39d1cc2d9",
     "grade": false,
     "grade_id": "cell-ddaa9d00a604c354",
     "locked": true,
     "schema_version": 3,
     "solution": false
    }
   },
   "outputs": [],
   "source": [
    "x = [i for i in range(0,300,2)]\n",
    "y1,y2=[],[]\n",
    "for i in x :\n",
    "    total1,total2 = 0,0\n",
    "    for j in range(100) :\n",
    "        total1 = total1 + mesure_temps(i)\n",
    "    for j in range(100) :\n",
    "        total2 = total2 + mesure_temps2(i)\n",
    "    y1.append(total1/100)\n",
    "    y2.append(total2/100)\n",
    "\n",
    "plt.plot(x,y1,label = 'recherche dichotomique')\n",
    "plt.plot(x,y2,label = 'recherche séquentielle')\n",
    "plt.legend()"
   ]
  },
  {
   "cell_type": "markdown",
   "metadata": {
    "deletable": false,
    "editable": false,
    "nbgrader": {
     "cell_type": "markdown",
     "checksum": "91229b586c9cea540320c7c339f97376",
     "grade": false,
     "grade_id": "cell-b06e8db5fd49fa58",
     "locked": true,
     "schema_version": 3,
     "solution": false
    }
   },
   "source": [
    "**Que montre ce graphe ?**"
   ]
  },
  {
   "cell_type": "markdown",
   "metadata": {
    "deletable": false,
    "nbgrader": {
     "cell_type": "markdown",
     "checksum": "7e4e9ee0e5e372da4b8e1f251398315d",
     "grade": true,
     "grade_id": "cell-174138b5e1d67796",
     "locked": false,
     "points": 1,
     "schema_version": 3,
     "solution": true
    }
   },
   "source": [
    "YOUR ANSWER HERE"
   ]
  },
  {
   "cell_type": "markdown",
   "metadata": {
    "deletable": false,
    "editable": false,
    "nbgrader": {
     "cell_type": "markdown",
     "checksum": "68c9568037c80c1bf8cd6dd186c1bc46",
     "grade": false,
     "grade_id": "cell-e22fbcf1a1c75cb3",
     "locked": true,
     "schema_version": 3,
     "solution": false
    }
   },
   "source": [
    "**Cependant dans cette comparaison, quelle particularité de la recherche dichotomique n'a pas été prise en compte dans sa comparaison avec le tri séquentiel ?**"
   ]
  },
  {
   "cell_type": "markdown",
   "metadata": {
    "deletable": false,
    "nbgrader": {
     "cell_type": "markdown",
     "checksum": "f5e26be1ba3141d82ec5bd4643c59d20",
     "grade": true,
     "grade_id": "cell-b106ea2a9ae7a7aa",
     "locked": false,
     "points": 1,
     "schema_version": 3,
     "solution": true
    }
   },
   "source": [
    "YOUR ANSWER HERE"
   ]
  }
 ],
 "metadata": {
  "kernelspec": {
   "display_name": "Python 3",
   "language": "python",
   "name": "python3"
  },
  "language_info": {
   "codemirror_mode": {
    "name": "ipython",
    "version": 3
   },
   "file_extension": ".py",
   "mimetype": "text/x-python",
   "name": "python",
   "nbconvert_exporter": "python",
   "pygments_lexer": "ipython3",
   "version": "3.6.9"
  },
  "latex_envs": {
   "LaTeX_envs_menu_present": true,
   "autoclose": false,
   "autocomplete": true,
   "bibliofile": "biblio.bib",
   "cite_by": "apalike",
   "current_citInitial": 1,
   "eqLabelWithNumbers": true,
   "eqNumInitial": 1,
   "hotkeys": {
    "equation": "Ctrl-E",
    "itemize": "Ctrl-I"
   },
   "labels_anchors": false,
   "latex_user_defs": false,
   "report_style_numbering": false,
   "user_envs_cfg": false
  }
 },
 "nbformat": 4,
 "nbformat_minor": 2
}
